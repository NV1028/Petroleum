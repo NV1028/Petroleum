{
 "cells": [
  {
   "cell_type": "code",
   "execution_count": 1,
   "metadata": {},
   "outputs": [],
   "source": [
    "import numpy as np\n",
    "import pandas as pd\n",
    "\n",
    "def arps_decline(UID, phase, Qi, Dei, Def, b, t, prior_cum, prior_t):\n",
    "    # UID is a unique identifier for the well such as API, must be a number\n",
    "    # phase is 1 = oil, 2 = gas, or 3 = water\n",
    "    # Qi is the initial production rate typically in bbl/day or Mcf/day\n",
    "    # Dei is the initial effective annual decline rate\n",
    "    # Def is the final effective annual decline rate at which point the decline becomes exponential\n",
    "    # b is the b-factor used in hyperbolic or harmonic decline equations\n",
    "    # t is the time as a month integer\n",
    "    # prior_cum is the cumulative amount produced before the start of the decline calcuations\n",
    "    # prior_t is an integer representing the final month from a previous decline segment\n",
    "    \n",
    "    # Calculations to determine decline type\n",
    "    if Dei == Def:\n",
    "        Type = 'exp'\n",
    "    elif Dei > Def and b == 1:\n",
    "        Type = 'har'\n",
    "        Dn = Dei / (1 - Dei)\n",
    "        Qlim = Qi * ((-np.log(1 - Def)) / Dn)\n",
    "        tlim = (((Qi / Qlim) - 1) / Dn) * 12 # output in months\n",
    "    else:\n",
    "        Type = 'hyp'\n",
    "        Dn = (1 / b) * (((1 - Dei) ** -b) - 1)\n",
    "        Qlim = Qi * ((-np.log(1 - Def)) / Dn) ** (1 / b)\n",
    "        tlim = ((((Qi / Qlim) ** b) - 1) / ( b * Dn)) * 12 # output in months\n",
    "    \n",
    "    # Generate volumes\n",
    "    if Type == 'hyp':\n",
    "        Dn_t = Dn / (1 + b * Dn * (t / 12))\n",
    "        De_t = 1 - (1 / ((Dn_t * b) + 1)) ** (1 / b)\n",
    "        if De_t > Def:\n",
    "            q = Qi * (1 + b * Dn * (t / 12)) ** (-1/b)\n",
    "            Np = ((Qi ** b) / (Dn * (1 - b))) * ((Qi ** (1 - b)) - (q ** (1 - b))) * 365\n",
    "        else:\n",
    "            q = Qlim * np.exp(-(-np.log(1 - Def)) * ((t - tlim) / 12))\n",
    "            Np = ((Qlim - q) / (-np.log(1 - Def)) * 365) + (((Qi ** b) / \n",
    "                    (Dn * (1 - b))) * ((Qi ** (1 - b)) - (Qlim ** (1 - b))) * 365)\n",
    "            De_t = Def\n",
    "    elif Type == 'har':\n",
    "        Dn_t = Dn / (1 + Dn * (t / 12))\n",
    "        De_t = 1 - (1 / (Dn_t + 1))\n",
    "        if De_t > Def:\n",
    "            q = Qi / (1 + b * Dn * (t / 12))\n",
    "            Np = (Qi / Dn) * np.log(Qi / q) * 365\n",
    "        else:\n",
    "            q = Qlim * np.exp(-(-np.log(1 - Def)) * ((t - tlim) / 12))\n",
    "            Np = ((Qlim - q) / (-np.log(1 - Def)) * 365) + ((Qi / Dn) * np.log(Qi / Qlim) * 365)\n",
    "            De_t = Def\n",
    "    else:\n",
    "        q = Qi * np.exp(-(-np.log(1 - Dei)) * (t / 12))\n",
    "        Np = (Qi - q) / (-np.log(1 - Dei)) * 365\n",
    "        De_t = Dei\n",
    "    \n",
    "    return UID, phase, t + prior_t, q, Np + prior_cum"
   ]
  },
  {
   "cell_type": "code",
   "execution_count": 2,
   "metadata": {},
   "outputs": [],
   "source": [
    "# Calculate Dei from Qi and Qf based on exponential decline equation\n",
    "def exp_Dei(Qi, Qf, duration):\n",
    "    # Qi is the initial production rate typically in bbl/day or Mcf/day\n",
    "    # Qf is the final production rate typically in bbl/day or Mcf/day\n",
    "    # duration is the time interval in months over which you are trying to calculate the exponential decline rate\n",
    "    Dei = 1 - np.exp(-np.log(Qi / Qf) / (duration / 12))\n",
    "    return Dei"
   ]
  },
  {
   "cell_type": "code",
   "execution_count": 3,
   "metadata": {},
   "outputs": [],
   "source": [
    "# Vectorize the arps_decline function to allow it to work with numpy arrays\n",
    "varps_decline = np.vectorize(arps_decline)"
   ]
  },
  {
   "cell_type": "code",
   "execution_count": 4,
   "metadata": {},
   "outputs": [],
   "source": [
    "# Import data for decline parameters\n",
    "tc_list = pd.read_excel('SCST_YE20_TC_PARAMETERS_GENERALIZED.xlsx', sheet_name = 'Sheet1')\n",
    "C = tc_list.keys() # Columns\n",
    "R = tc_list.index # Rows"
   ]
  },
  {
   "cell_type": "code",
   "execution_count": 5,
   "metadata": {},
   "outputs": [],
   "source": [
    "# Import timing distributions\n",
    "tdist = pd.read_excel('SCST_TimingDist_05-2021.xlsx', sheet_name = 'Sheet1')\n",
    "D = tdist.keys()\n",
    "Y = tdist.index"
   ]
  },
  {
   "cell_type": "code",
   "execution_count": 6,
   "metadata": {},
   "outputs": [],
   "source": [
    "# Loop through DataFrame and output monthly volumes and oneline\n",
    "\n",
    "out_nparr = np.empty([4, 0])\n",
    "\n",
    "for r in R:\n",
    "    t_seg1 = np.arange(0, tc_list.loc[r, 'Duration1'] + 1, 1)\n",
    "    t_seg2 = np.arange(1, tc_list.loc[r, 'DurationFull'] - tc_list.loc[r, 'Duration1'], 1)\n",
    "    Dei1 = exp_Dei (tc_list.loc[r, 'Qi1'], tc_list.loc[r, 'Qi2'], np.max(t_seg1))\n",
    "    seg1 = varps_decline(tc_list.loc[r, 'UID'], tc_list.loc[r, 'Phase'], tc_list.loc[r, 'Qi1'], \n",
    "                         Dei1, Dei1, 1.0, t_seg1, 0, 0)\n",
    "    prior_cum = np.max(seg1[4])\n",
    "    prior_t = np.max(seg1[2])\n",
    "    seg2 = varps_decline(tc_list.loc[r, 'UID'], tc_list.loc[r, 'Phase'], tc_list.loc[r, 'Qi2'],\n",
    "                        tc_list.loc[r, 'Dei'], tc_list.loc[r, 'Def'], tc_list.loc[r, 'b'],\n",
    "                        t_seg2, prior_cum, prior_t)\n",
    "    well_phase = np.column_stack((seg1, seg2))\n",
    "    Cum_i = well_phase[4][:-1]\n",
    "    Cum_f = well_phase[4][1:]\n",
    "    monthly_cum = Cum_f - Cum_i\n",
    "    monthly_cum[monthly_cum < 0] = 0\n",
    "    monthly_cum = np.insert(monthly_cum, 0, 0)\n",
    "    well_phase = np.vstack((well_phase, monthly_cum))\n",
    "    well_phase_pd = pd.DataFrame({'UID':well_phase[0], 'phase':well_phase[1], 'Month':well_phase[2], 'Monthly Volume':0})\n",
    "    timedist = tc_list.loc[r, 'TimeDist']\n",
    "    \n",
    "    # Shift array and apply weight to monthly volumes. Using Pandas for joins, due to full outer capabilities\n",
    "    for y in Y:\n",
    "        UID = well_phase[0]\n",
    "        phase = well_phase[1]\n",
    "        month = well_phase[2] + tdist.loc[y, 'Month']\n",
    "        volume = well_phase[5] * tdist.loc[y, timedist]\n",
    "        shift_inc = pd.DataFrame({'UID':UID, 'phase':phase, 'Month':month, 'Monthly Volume':volume})\n",
    "        merged = pd.merge(well_phase_pd, shift_inc, how = 'outer', on = ['UID', 'phase', 'Month'])\n",
    "        volume = merged['Monthly Volume_x'].fillna(0) + merged['Monthly Volume_y'].fillna(0)\n",
    "        well_phase_pd['Monthly Volume'] = volume\n",
    "        \n",
    "    # Create combined array\n",
    "    well_phase = well_phase_pd.to_numpy()\n",
    "    out_nparr = np.column_stack((out_nparr, np.transpose(well_phase)))\n",
    "    \n",
    "# Create pandas dataframe from array and output results to csv\n",
    "\n",
    "out_monthly = pd.DataFrame(np.transpose(out_nparr), columns = ['UID', 'phase', 'Month', 'Monthly Volume'])\n",
    "out_oneline = out_monthly.pivot_table(['Monthly Volume'], aggfunc = ['sum'], index = ['UID', 'phase'])\n",
    "out_monthly.to_csv('tdist_monthly.csv')\n",
    "out_oneline.to_csv('tdist_oneline.csv')"
   ]
  },
  {
   "cell_type": "code",
   "execution_count": null,
   "metadata": {},
   "outputs": [],
   "source": []
  }
 ],
 "metadata": {
  "kernelspec": {
   "display_name": "Python 3",
   "language": "python",
   "name": "python3"
  },
  "language_info": {
   "codemirror_mode": {
    "name": "ipython",
    "version": 3
   },
   "file_extension": ".py",
   "mimetype": "text/x-python",
   "name": "python",
   "nbconvert_exporter": "python",
   "pygments_lexer": "ipython3",
   "version": "3.8.5"
  }
 },
 "nbformat": 4,
 "nbformat_minor": 2
}
